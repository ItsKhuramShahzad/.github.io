{
  "cells": [
    {
      "cell_type": "markdown",
      "metadata": {
        "id": "gsP1atb4FGBS"
      },
      "source": [
        "##### Copyright 2020 The OpenFermion Developers"
      ]
    },
    {
      "cell_type": "code",
      "execution_count": null,
      "metadata": {
        "id": "if8ohZCsFGBe"
      },
      "outputs": [],
      "source": [
        "#@title Licensed under the Apache License, Version 2.0 (the \"License\");\n",
        "# you may not use this file except in compliance with the License.\n",
        "# You may obtain a copy of the License at\n",
        "#\n",
        "# https://www.apache.org/licenses/LICENSE-2.0\n",
        "#\n",
        "# Unless required by applicable law or agreed to in writing, software\n",
        "# distributed under the License is distributed on an \"AS IS\" BASIS,\n",
        "# WITHOUT WARRANTIES OR CONDITIONS OF ANY KIND, either express or implied.\n",
        "# See the License for the specific language governing permissions and\n",
        "# limitations under the License."
      ]
    },
    {
      "cell_type": "markdown",
      "metadata": {
        "id": "swQ2I6PcFGBl"
      },
      "source": [
        "# Hamiltonian Time Evolution and Expectation Value Computation"
      ]
    },
    {
      "cell_type": "markdown",
      "metadata": {
        "id": "kmYCPOTnFGBq"
      },
      "source": [
        "This tutorial describes the FQE's capabilities for Hamiltonian time-evolution and expectation value estimation\n",
        "\n",
        "Where possible, LiH will be used as an example molecule for the API."
      ]
    },
    {
      "cell_type": "code",
      "execution_count": 1,
      "metadata": {
        "id": "MQCXiVO8FGBs",
        "outputId": "444244fe-25a3-4ad6-9df3-aa8ea97c4a57",
        "colab": {
          "base_uri": "https://localhost:8080/"
        }
      },
      "outputs": [
        {
          "output_type": "stream",
          "name": "stdout",
          "text": [
            "\u001b[?25l     \u001b[90m━━━━━━━━━━━━━━━━━━━━━━━━━━━━━━━━━━━━━━━━\u001b[0m \u001b[32m0.0/148.1 kB\u001b[0m \u001b[31m?\u001b[0m eta \u001b[36m-:--:--\u001b[0m\r\u001b[2K     \u001b[90m━━━━━━━━━━━━━━━━━━━━━━━━━━━━━━━━━━━━━━━\u001b[0m \u001b[32m148.1/148.1 kB\u001b[0m \u001b[31m5.4 MB/s\u001b[0m eta \u001b[36m0:00:00\u001b[0m\n",
            "\u001b[?25h  Installing build dependencies ... \u001b[?25l\u001b[?25hdone\n",
            "  Getting requirements to build wheel ... \u001b[?25l\u001b[?25hdone\n",
            "  Preparing metadata (pyproject.toml) ... \u001b[?25l\u001b[?25hdone\n",
            "  Preparing metadata (setup.py) ... \u001b[?25l\u001b[?25hdone\n",
            "\u001b[2K   \u001b[90m━━━━━━━━━━━━━━━━━━━━━━━━━━━━━━━━━━━━━━━━\u001b[0m \u001b[32m131.4/131.4 kB\u001b[0m \u001b[31m8.8 MB/s\u001b[0m eta \u001b[36m0:00:00\u001b[0m\n",
            "\u001b[2K   \u001b[90m━━━━━━━━━━━━━━━━━━━━━━━━━━━━━━━━━━━━━━━━\u001b[0m \u001b[32m2.0/2.0 MB\u001b[0m \u001b[31m61.0 MB/s\u001b[0m eta \u001b[36m0:00:00\u001b[0m\n",
            "\u001b[2K   \u001b[90m━━━━━━━━━━━━━━━━━━━━━━━━━━━━━━━━━━━━━━━━\u001b[0m \u001b[32m597.5/597.5 kB\u001b[0m \u001b[31m32.8 MB/s\u001b[0m eta \u001b[36m0:00:00\u001b[0m\n",
            "\u001b[2K   \u001b[90m━━━━━━━━━━━━━━━━━━━━━━━━━━━━━━━━━━━━━━━━\u001b[0m \u001b[32m44.7/44.7 MB\u001b[0m \u001b[31m13.6 MB/s\u001b[0m eta \u001b[36m0:00:00\u001b[0m\n",
            "\u001b[2K   \u001b[90m━━━━━━━━━━━━━━━━━━━━━━━━━━━━━━━━━━━━━━━━\u001b[0m \u001b[32m77.1/77.1 kB\u001b[0m \u001b[31m5.9 MB/s\u001b[0m eta \u001b[36m0:00:00\u001b[0m\n",
            "\u001b[2K   \u001b[90m━━━━━━━━━━━━━━━━━━━━━━━━━━━━━━━━━━━━━━━━\u001b[0m \u001b[32m12.3/12.3 MB\u001b[0m \u001b[31m73.7 MB/s\u001b[0m eta \u001b[36m0:00:00\u001b[0m\n",
            "\u001b[2K   \u001b[90m━━━━━━━━━━━━━━━━━━━━━━━━━━━━━━━━━━━━━━━━\u001b[0m \u001b[32m2.8/2.8 MB\u001b[0m \u001b[31m70.1 MB/s\u001b[0m eta \u001b[36m0:00:00\u001b[0m\n",
            "\u001b[2K   \u001b[90m━━━━━━━━━━━━━━━━━━━━━━━━━━━━━━━━━━━━━━━━\u001b[0m \u001b[32m69.1/69.1 kB\u001b[0m \u001b[31m5.2 MB/s\u001b[0m eta \u001b[36m0:00:00\u001b[0m\n",
            "\u001b[2K   \u001b[90m━━━━━━━━━━━━━━━━━━━━━━━━━━━━━━━━━━━━━━━━\u001b[0m \u001b[32m386.9/386.9 kB\u001b[0m \u001b[31m24.4 MB/s\u001b[0m eta \u001b[36m0:00:00\u001b[0m\n",
            "\u001b[2K   \u001b[90m━━━━━━━━━━━━━━━━━━━━━━━━━━━━━━━━━━━━━━━━\u001b[0m \u001b[32m133.5/133.5 kB\u001b[0m \u001b[31m9.5 MB/s\u001b[0m eta \u001b[36m0:00:00\u001b[0m\n",
            "\u001b[2K   \u001b[90m━━━━━━━━━━━━━━━━━━━━━━━━━━━━━━━━━━━━━━━━\u001b[0m \u001b[32m59.7/59.7 kB\u001b[0m \u001b[31m4.2 MB/s\u001b[0m eta \u001b[36m0:00:00\u001b[0m\n",
            "\u001b[2K   \u001b[90m━━━━━━━━━━━━━━━━━━━━━━━━━━━━━━━━━━━━━━━━\u001b[0m \u001b[32m1.6/1.6 MB\u001b[0m \u001b[31m54.4 MB/s\u001b[0m eta \u001b[36m0:00:00\u001b[0m\n",
            "\u001b[2K   \u001b[90m━━━━━━━━━━━━━━━━━━━━━━━━━━━━━━━━━━━━━━━━\u001b[0m \u001b[32m66.4/66.4 kB\u001b[0m \u001b[31m5.1 MB/s\u001b[0m eta \u001b[36m0:00:00\u001b[0m\n",
            "\u001b[?25h  Building wheel for fqe (pyproject.toml) ... \u001b[?25l\u001b[?25hdone\n",
            "  Building wheel for pubchempy (setup.py) ... \u001b[?25l\u001b[?25hdone\n"
          ]
        }
      ],
      "source": [
        "try:\n",
        "    import fqe\n",
        "except ImportError:\n",
        "    !pip install fqe --quiet"
      ]
    },
    {
      "cell_type": "code",
      "metadata": {
        "scrolled": true,
        "id": "3i55Vs4SYsm5"
      },
      "source": [
        "Print = True\n",
        "from openfermion import FermionOperator, MolecularData\n",
        "from openfermion.utils import hermitian_conjugated\n",
        "import numpy\n",
        "import fqe\n",
        "\n",
        "numpy.set_printoptions(floatmode='fixed', precision=6, linewidth=80, suppress=True)\n",
        "numpy.random.seed(seed=409)"
      ],
      "execution_count": 2,
      "outputs": []
    },
    {
      "cell_type": "code",
      "metadata": {
        "id": "obExleOZZSAq",
        "outputId": "c9110e08-bfea-43f5-d3f1-dadc00866a7b",
        "colab": {
          "base_uri": "https://localhost:8080/"
        }
      },
      "source": [
        "!curl -O https://raw.githubusercontent.com/quantumlib/OpenFermion-FQE/master/tests/unittest_data/build_lih_data.py"
      ],
      "execution_count": 3,
      "outputs": [
        {
          "output_type": "stream",
          "name": "stdout",
          "text": [
            "  % Total    % Received % Xferd  Average Speed   Time    Time     Time  Current\n",
            "                                 Dload  Upload   Total   Spent    Left  Speed\n",
            "100 62086  100 62086    0     0   174k      0 --:--:-- --:--:-- --:--:--  174k\n"
          ]
        }
      ]
    },
    {
      "cell_type": "code",
      "metadata": {
        "id": "E3RaAyBkZuov"
      },
      "source": [
        "import build_lih_data"
      ],
      "execution_count": 4,
      "outputs": []
    },
    {
      "cell_type": "code",
      "metadata": {
        "id": "g8XMRUw6Zb8W",
        "outputId": "99199861-e1c6-45f6-d8d7-bd32dac6d245",
        "colab": {
          "base_uri": "https://localhost:8080/"
        }
      },
      "source": [
        "h1e, h2e, wfn = build_lih_data.build_lih_data('energy')\n",
        "lih_hamiltonian = fqe.get_restricted_hamiltonian(([h1e, h2e]))\n",
        "lihwfn = fqe.Wavefunction([[4, 0, 6]])\n",
        "lihwfn.set_wfn(strategy='from_data', raw_data={(4, 0): wfn})\n",
        "if Print:\n",
        "    lihwfn.print_wfn()"
      ],
      "execution_count": 6,
      "outputs": [
        {
          "output_type": "stream",
          "name": "stdout",
          "text": [
            "Sector N = 4 : S_z = 0\n",
            "a'000011'b'000011' (-0.9870890035778126+0j)\n",
            "a'000011'b'000101' (-0.0384854879340124+0j)\n",
            "a'000011'b'100001' (-0.0036477466809967+0j)\n",
            "a'000101'b'000011' (-0.0384854879340073+0j)\n",
            "a'000101'b'000101' (0.0344508540105218+0j)\n",
            "a'000101'b'100001' (-0.0592953695921639+0j)\n",
            "a'000101'b'100010' (-0.0010777697106179+0j)\n",
            "a'001001'b'001001' (0.0271656962509733+0j)\n",
            "a'001001'b'001010' (-0.0031209939957822+0j)\n",
            "a'010001'b'010001' (0.0271656962509733+0j)\n",
            "a'010001'b'010010' (-0.0031209939957822+0j)\n",
            "a'100001'b'000011' (-0.003647746680997+0j)\n",
            "a'100001'b'000101' (-0.0592953695921649+0j)\n",
            "a'100001'b'100001' (0.1135892009408387+0j)\n",
            "a'000110'b'000110' (0.0037623492033852+0j)\n",
            "a'001010'b'001001' (-0.0031209939957822+0j)\n",
            "a'001010'b'001010' (0.001794202149606+0j)\n",
            "a'010010'b'010001' (-0.0031209939957822+0j)\n",
            "a'010010'b'010010' (0.001794202149606+0j)\n",
            "a'100010'b'000101' (-0.001077769710618+0j)\n",
            "a'100010'b'100010' (0.0010515758855392+0j)\n"
          ]
        }
      ]
    },
    {
      "cell_type": "markdown",
      "metadata": {
        "id": "1Y39rFV6FGB2"
      },
      "source": [
        "## Application of one- and two-body fermionic gates\n",
        "\n",
        "The API for time propagation can be invoked through the fqe namespace or the wavefunction object"
      ]
    },
    {
      "cell_type": "code",
      "execution_count": 7,
      "metadata": {
        "id": "K7cP1RVSFGB3"
      },
      "outputs": [],
      "source": [
        "# dummy geometry\n",
        "from openfermion.chem.molecular_data import spinorb_from_spatial\n",
        "from openfermion import jordan_wigner, get_sparse_operator, InteractionOperator, get_fermion_operator\n",
        "\n",
        "h1s, h2s = spinorb_from_spatial(h1e, numpy.einsum(\"ijlk\", -2 * h2e) * 0.5)\n",
        "mol = InteractionOperator(0, h1s, h2s)\n",
        "ham_fop = get_fermion_operator(mol)\n",
        "ham_mat = get_sparse_operator(jordan_wigner(ham_fop)).toarray()\n"
      ]
    },
    {
      "cell_type": "code",
      "execution_count": null,
      "metadata": {
        "scrolled": true,
        "id": "F5vwU1hLFGB5"
      },
      "outputs": [],
      "source": [
        "from scipy.linalg import expm\n",
        "time = 0.01\n",
        "evolved1 = lihwfn.time_evolve(time, lih_hamiltonian)\n",
        "if Print:\n",
        "    evolved1.print_wfn()\n",
        "evolved2 = fqe.time_evolve(lihwfn, time, lih_hamiltonian)\n",
        "if Print:\n",
        "    evolved2.print_wfn()\n",
        "assert numpy.isclose(fqe.vdot(evolved1, evolved2), 1)\n",
        "cirq_wf = fqe.to_cirq(lihwfn)\n",
        "evolve_cirq = expm(-1j * time * ham_mat) @ cirq_wf\n",
        "test_evolve = fqe.from_cirq(evolve_cirq, thresh=1.0E-12)\n",
        "assert numpy.isclose(fqe.vdot(test_evolve, evolved1), 1)"
      ]
    },
    {
      "cell_type": "code",
      "source": [
        "import numpy as np # Use np alias for consistency\n",
        "import fqe\n",
        "from openfermion import jordan_wigner, get_sparse_operator, InteractionOperator, get_fermion_operator\n",
        "from openfermion.chem.molecular_data import spinorb_from_spatial\n",
        "from openfermion import FermionOperator # For building the number operator later\n",
        "\n",
        "# --- Building the OpenFermion Hamiltonian matrix ---\n",
        "# Number of spatial orbitals from the input h1e integral dimensions\n",
        "n_spatial_orbitals_from_h1e = h1e.shape[0]\n",
        "n_spin_orbitals_for_ham = 2 * n_spatial_orbitals_from_h1e # Total qubits for the Hamiltonian\n",
        "\n",
        "h1s, h2s = spinorb_from_spatial(h1e, np.einsum(\"ijlk\", -2 * h2e) * 0.5)\n",
        "mol = InteractionOperator(0, h1s, h2s)\n",
        "ham_fop = get_fermion_operator(mol)\n",
        "ham_mat = get_sparse_operator(jordan_wigner(ham_fop), n_qubits=n_spin_orbitals_for_ham).toarray() # Pass n_qubits explicitly\n",
        "\n",
        "print(f\"\\n--- Hamiltonian Matrix Details ---\")\n",
        "print(f\"Number of spin-orbitals in Hamiltonian: {n_spin_orbitals_for_ham}\")\n",
        "print(f\"Dimension of Hamiltonian matrix: {ham_mat.shape[0]}x{ham_mat.shape[1]}\")\n",
        "\n",
        "\n",
        "# --- Get the True Ground State Energy and Eigenvector by Diagonalization ---\n",
        "print(f\"\\n--- Performing Exact Diagonalization ---\")\n",
        "\n",
        "# numpy.linalg.eigh is used for Hermitian matrices (like quantum Hamiltonians)\n",
        "# It returns eigenvalues and eigenvectors. Eigenvalues are typically sorted in ascending order.\n",
        "eigenvalues, eigenvectors = np.linalg.eigh(ham_mat)\n",
        "\n",
        "# The first eigenvalue (index 0) is the ground state energy\n",
        "ground_state_energy_true = eigenvalues[0]\n",
        "\n",
        "# The corresponding eigenvector is the first column of the eigenvectors matrix\n",
        "ground_state_eigenvector_true = eigenvectors[:, 0]\n",
        "\n",
        "print(f\"True Ground State Energy (Eigenvalue): {ground_state_energy_true:.6f} Ha\")\n",
        "print(f\"Ground State Eigenvector (first 10 elements):\")\n",
        "print(ground_state_eigenvector_true[:10]) # Print first few elements as it can be very long\n",
        "print(f\"Norm of Ground State Eigenvector: {np.linalg.norm(ground_state_eigenvector_true):.6f}\")\n",
        "\n",
        "# --- Optional: Verify Electron Number of the True Ground State Eigenvector ---\n",
        "# For the LiH example, we expect 4 electrons.\n",
        "expected_num_electrons = 4 # Based on your fqe.Wavefunction([[4, 0, 6]]) setup\n",
        "\n",
        "# Build the number operator sum_p a_p^dagger a_p\n",
        "n_op_fermion = FermionOperator()\n",
        "for p in range(n_spin_orbitals_for_ham):\n",
        "    n_op_fermion += FermionOperator(((p, 1), (p, 0))) # a_p_dagger a_p\n",
        "\n",
        "n_op_qubit = jordan_wigner(n_op_fermion)\n",
        "n_op_sparse = get_sparse_operator(n_op_qubit, n_qubits=n_spin_orbitals_for_ham)\n",
        "\n",
        "# Calculate expectation value of number operator with the true ground state eigenvector\n",
        "n_electrons_in_true_gs = np.vdot(ground_state_eigenvector_true, n_op_sparse @ ground_state_eigenvector_true).real\n",
        "\n",
        "print(f\"Number of electrons in true ground state eigenvector: {n_electrons_in_true_gs:.0f}\")\n",
        "print(f\"(Expected: {expected_num_electrons} electrons)\")\n",
        "\n",
        "# # --- Comparison with FQE wavefunction's energy (from previous step) ---\n",
        "# # Calculate the expectation value of the Hamiltonian with the FQE wavefunction loaded earlier\n",
        "# energy_of_fqe_wfn = lihwfn.expectation_value(lih_hamiltonian)\n",
        "# print(f\"\\nEnergy of the provided FQE wavefunction (lihwfn): {energy_of_fqe_wfn:.6f} Ha\")\n",
        "\n",
        "print(\"\\n--- Summary ---\")\n",
        "print(\"1. The 'Energy of the provided FQE wavefunction' is the energy of the specific wavefunction\")\n",
        "print(\"   'lihwfn' that you set from your 'wfn_data'.\")\n",
        "print(\"2. The 'True Ground State Energy' is the absolute minimum energy eigenvalue of the\")\n",
        "print(\"   Hamiltonian matrix 'ham_mat', obtained via exact diagonalization. Its corresponding\")\n",
        "print(\"   vector is the 'ground_state_eigenvector_true'.\")\n",
        "print(\"If 'wfn_data' represents the exact ground state (e.g., from an FCI calculation),\")\n",
        "print(\"these two energy values should be very close.\")"
      ],
      "metadata": {
        "id": "tsczAThXZLHM",
        "outputId": "baf7784a-b8be-4c5e-d1ce-235a5d69031f",
        "colab": {
          "base_uri": "https://localhost:8080/",
          "height": 491
        }
      },
      "execution_count": 9,
      "outputs": [
        {
          "output_type": "stream",
          "name": "stdout",
          "text": [
            "\n",
            "--- Hamiltonian Matrix Details ---\n",
            "Number of spin-orbitals in Hamiltonian: 12\n",
            "Dimension of Hamiltonian matrix: 4096x4096\n",
            "\n",
            "--- Performing Exact Diagonalization ---\n",
            "True Ground State Energy (Eigenvalue): -8.877720 Ha\n",
            "Ground State Eigenvector (first 10 elements):\n",
            "[-0.000000+0.000000j  0.000000+0.000000j -0.000000+0.000000j\n",
            "  0.000000+0.000000j -0.000000+0.000000j -0.000000+0.000000j\n",
            " -0.000000+0.000000j  0.000000+0.000000j  0.000000+0.000000j\n",
            " -0.000000+0.000000j]\n",
            "Norm of Ground State Eigenvector: 1.000000\n",
            "Number of electrons in true ground state eigenvector: 4\n",
            "(Expected: 4 electrons)\n"
          ]
        },
        {
          "output_type": "error",
          "ename": "AttributeError",
          "evalue": "'Wavefunction' object has no attribute 'expectation_value'",
          "traceback": [
            "\u001b[0;31m---------------------------------------------------------------------------\u001b[0m",
            "\u001b[0;31mAttributeError\u001b[0m                            Traceback (most recent call last)",
            "\u001b[0;32m/tmp/ipython-input-9-642576558.py\u001b[0m in \u001b[0;36m<cell line: 0>\u001b[0;34m()\u001b[0m\n\u001b[1;32m     58\u001b[0m \u001b[0;31m# --- Comparison with FQE wavefunction's energy (from previous step) ---\u001b[0m\u001b[0;34m\u001b[0m\u001b[0;34m\u001b[0m\u001b[0m\n\u001b[1;32m     59\u001b[0m \u001b[0;31m# Calculate the expectation value of the Hamiltonian with the FQE wavefunction loaded earlier\u001b[0m\u001b[0;34m\u001b[0m\u001b[0;34m\u001b[0m\u001b[0m\n\u001b[0;32m---> 60\u001b[0;31m \u001b[0menergy_of_fqe_wfn\u001b[0m \u001b[0;34m=\u001b[0m \u001b[0mlihwfn\u001b[0m\u001b[0;34m.\u001b[0m\u001b[0mexpectation_value\u001b[0m\u001b[0;34m(\u001b[0m\u001b[0mlih_hamiltonian\u001b[0m\u001b[0;34m)\u001b[0m\u001b[0;34m\u001b[0m\u001b[0;34m\u001b[0m\u001b[0m\n\u001b[0m\u001b[1;32m     61\u001b[0m \u001b[0mprint\u001b[0m\u001b[0;34m(\u001b[0m\u001b[0;34mf\"\\nEnergy of the provided FQE wavefunction (lihwfn): {energy_of_fqe_wfn:.6f} Ha\"\u001b[0m\u001b[0;34m)\u001b[0m\u001b[0;34m\u001b[0m\u001b[0;34m\u001b[0m\u001b[0m\n\u001b[1;32m     62\u001b[0m \u001b[0;34m\u001b[0m\u001b[0m\n",
            "\u001b[0;31mAttributeError\u001b[0m: 'Wavefunction' object has no attribute 'expectation_value'"
          ]
        }
      ]
    },
    {
      "cell_type": "code",
      "source": [
        "eigenvectors"
      ],
      "metadata": {
        "id": "uFwW3OmCazmT",
        "outputId": "445478f7-d3e0-4c4e-dd0c-13da71c342c6",
        "colab": {
          "base_uri": "https://localhost:8080/"
        }
      },
      "execution_count": 15,
      "outputs": [
        {
          "output_type": "execute_result",
          "data": {
            "text/plain": [
              "array([[-0.000000+0.000000j,  0.000000+0.000000j,  0.000000+0.000000j, ...,\n",
              "         1.000000+0.000000j, -0.000000+0.000000j,  0.000000+0.000000j],\n",
              "       [ 0.000000+0.000000j, -0.000000+0.000000j,  0.000000+0.000000j, ...,\n",
              "        -0.000000+0.000000j,  0.000000+0.000000j,  0.000000+0.000000j],\n",
              "       [-0.000000+0.000000j,  0.000000+0.000000j,  0.000000+0.000000j, ...,\n",
              "         0.000000+0.000000j,  0.000000+0.000000j,  0.000000+0.000000j],\n",
              "       ...,\n",
              "       [-0.000000+0.000000j, -0.000000+0.000000j,  0.000000+0.000000j, ...,\n",
              "         0.000000+0.000000j, -0.000000+0.000000j,  0.000000+0.000000j],\n",
              "       [ 0.000000+0.000000j,  0.000000+0.000000j, -0.000000+0.000000j, ...,\n",
              "        -0.000000+0.000000j, -0.000000+0.000000j, -0.000000+0.000000j],\n",
              "       [-0.000000+0.000000j, -0.000000+0.000000j, -0.000000+0.000000j, ...,\n",
              "         0.000000+0.000000j,  1.000000+0.000000j,  0.000000+0.000000j]])"
            ]
          },
          "metadata": {},
          "execution_count": 15
        }
      ]
    },
    {
      "cell_type": "code",
      "source": [
        "import numpy as np\n",
        "\n",
        "def analyze_eigenvector_contributions(eigvec, threshold=1e-10):\n",
        "    \"\"\"\n",
        "    Analyzes an eigenvector, classifying its components as significant or\n",
        "    effectively zero, and mapping them to fermionic Fock states in a tabular format.\n",
        "\n",
        "    Args:\n",
        "        eigvec (np.ndarray): The eigenvector array.\n",
        "        threshold (float): The absolute amplitude value below which a component\n",
        "                           is considered \"effectively zero\" (numerical noise).\n",
        "    \"\"\"\n",
        "    if not isinstance(eigvec, np.ndarray) or eigvec.ndim != 1:\n",
        "        print(\"Error: eigvec must be a 1D NumPy array.\")\n",
        "        return\n",
        "\n",
        "    num_components = len(eigvec)\n",
        "    if num_components == 0:\n",
        "        print(\"Error: eigvec is empty.\")\n",
        "        return\n",
        "\n",
        "    # Determine n_spin_orbitals from the length of the eigenvector\n",
        "    # It must be a power of 2 for a valid qubit/fermionic basis\n",
        "    n_spin_orbitals = int(np.log2(num_components))\n",
        "    if 2**n_spin_orbitals != num_components:\n",
        "        print(f\"Error: Eigenvector length ({num_components}) is not a power of 2, \"\n",
        "              \"which is required for this basis interpretation.\")\n",
        "        return\n",
        "\n",
        "    print(\"--- Detailed Analysis of Each Basis State Contribution (Tabular Format) ---\")\n",
        "    # print(\"Spin Orbital Mapping (Jordan-Wigner convention, Qubit i <-> Orbital i):\")\n",
        "    # print(\"  Orbital 0: Site 0, Spin-Up\")\n",
        "    # print(\"  Orbital 1: Site 0, Spin-Down\")\n",
        "    # print(\"  Orbital 2: Site 1, Spin-Up\")\n",
        "    # print(\"  Orbital 3: Site 1, Spin-Down\")\n",
        "    # print(f\"Basis states are ordered as |Orb{n_spin_orbitals-1} ... Orb1 Orb0⟩ (or |Qubit{n_spin_orbitals-1} ... Qubit1 Qubit0⟩).\\n\")\n",
        "\n",
        "    # Prepare data for the table\n",
        "    table_data = []\n",
        "\n",
        "    for i, amplitude in enumerate(eigvec):\n",
        "        is_significant = abs(amplitude) > threshold\n",
        "        classification = \"Significant\" if is_significant else \"Effectively 0\"\n",
        "\n",
        "        binary_state = bin(i)[2:].zfill(n_spin_orbitals)\n",
        "        occupied_orbitals = [k for k, bit_char in enumerate(reversed(binary_state)) if bit_char == '1']\n",
        "        num_electrons = len(occupied_orbitals)\n",
        "\n",
        "        description_parts = []\n",
        "        if 0 in occupied_orbitals: description_parts.append(\"Site0_Up\")\n",
        "        if 1 in occupied_orbitals: description_parts.append(\"Site0_Down\")\n",
        "        if 2 in occupied_orbitals: description_parts.append(\"Site1_Up\")\n",
        "        if 3 in occupied_orbitals: description_parts.append(\"Site1_Down\")\n",
        "\n",
        "        orbital_description = \"Vacuum (0 electrons)\" if not description_parts else f\"{num_electrons} electrons: {', '.join(description_parts)}\"\n",
        "\n",
        "        # Format amplitude string for display\n",
        "        if not is_significant and np.isclose(amplitude, 0j):\n",
        "            amplitude_str = \"0.0000+0.0000j\"\n",
        "        else:\n",
        "            amplitude_str = f\"{amplitude.real:.4f}{'+' if amplitude.imag >= 0 else ''}{amplitude.imag:.4f}j\"\n",
        "\n",
        "        table_data.append({\n",
        "            'index': i,\n",
        "            'amplitude': amplitude_str,\n",
        "            'classification': classification,\n",
        "            'binary_state': binary_state,\n",
        "            'num_electrons': num_electrons,\n",
        "            'occupied_orbitals': str(occupied_orbitals), # Convert list to string for printing\n",
        "            'description': orbital_description\n",
        "        })\n",
        "\n",
        "    # Determine column widths for formatting\n",
        "    col_widths = {\n",
        "        'index': 5,\n",
        "        'amplitude': 20,\n",
        "        'classification': 15,\n",
        "        'binary_state': 12,\n",
        "        'num_electrons': 7,\n",
        "        'occupied_orbitals': 20,\n",
        "        'description': 40\n",
        "    }\n",
        "\n",
        "    # Print header\n",
        "    header = (\n",
        "        f\"{'Index':<{col_widths['index']}} | \"\n",
        "         f\"{'|Basis State>':<{col_widths['binary_state']}} | \"\n",
        "        f\"{'Amplitude':<{col_widths['amplitude']}} | \"\n",
        "        f\"{'Type':<{col_widths['classification']}} | \"\n",
        "        f\"{'#Elec.':<{col_widths['num_electrons']}} | \"\n",
        "        f\"{'Occ. Orbs':<{col_widths['occupied_orbitals']}} | \"\n",
        "        f\"{'Description':<{col_widths['description']}}\"\n",
        "    )\n",
        "    print(header)\n",
        "    print(\"-\" * len(header))\n",
        "\n",
        "    # Print data rows\n",
        "    for row in table_data:\n",
        "        print(\n",
        "            f\"{row['index']:<{col_widths['index']}} | \"\n",
        "                        f\"{'|' + row['binary_state'] + '⟩':<{col_widths['binary_state']}} | \" # Add | and ⟩ here\n",
        "\n",
        "            f\"{row['amplitude']:<{col_widths['amplitude']}} | \"\n",
        "            f\"{row['classification']:<{col_widths['classification']}} | \"\n",
        "            f\"{row['num_electrons']:<{col_widths['num_electrons']}} | \"\n",
        "            f\"{row['occupied_orbitals']:<{col_widths['occupied_orbitals']}} | \"\n",
        "            f\"{row['description']:<{col_widths['description']}}\"\n",
        "        )\n",
        "\n",
        "    print(\"\\n---------------------------------------------------\")\n",
        "    total_abs_sq_amplitude = np.sum(np.abs(eigvec)**2)\n",
        "    print(f\"Sum of squares of absolute amplitudes (should be ~1.0): {total_abs_sq_amplitude:.6f}\")\n",
        "    if np.isclose(total_abs_sq_amplitude, 1.0):\n",
        "        print(\"Eigenvector is normalized (within numerical precision).\")\n",
        "    else:\n",
        "        print(\"WARNING: Eigenvector is NOT normalized.\")\n",
        "\n",
        "# --- Example Usage ---\n",
        "\n",
        "\n",
        "# Call the function with your eigenvector\n",
        "analyze_eigenvector_contributions(eigenvectors.flatten())"
      ],
      "metadata": {
        "id": "t6HqhrhDazwf",
        "outputId": "d9b447f0-6707-4410-83fd-a48e655f06f7",
        "colab": {
          "base_uri": "https://localhost:8080/"
        }
      },
      "execution_count": null,
      "outputs": [
        {
          "output_type": "stream",
          "name": "stdout",
          "text": [
            "--- Detailed Analysis of Each Basis State Contribution (Tabular Format) ---\n",
            "Spin Orbital Mapping (Jordan-Wigner convention, Qubit i <-> Orbital i):\n",
            "  Orbital 0: Site 0, Spin-Up\n",
            "  Orbital 1: Site 0, Spin-Down\n",
            "  Orbital 2: Site 1, Spin-Up\n",
            "  Orbital 3: Site 1, Spin-Down\n",
            "Basis states are ordered as |Orb23 ... Orb1 Orb0⟩ (or |Qubit23 ... Qubit1 Qubit0⟩).\n",
            "\n"
          ]
        }
      ]
    },
    {
      "cell_type": "markdown",
      "metadata": {
        "id": "rqRaniiiFGB6"
      },
      "source": [
        "## Exact evolution implementation of quadratic Hamiltonians\n",
        "\n",
        "Listed here are examples of evolving the special Hamiltonians.\n",
        "\n",
        "Diagonal Hamiltonian evolution is supported."
      ]
    },
    {
      "cell_type": "code",
      "execution_count": null,
      "metadata": {
        "scrolled": false,
        "id": "52RgoIZiFGB7"
      },
      "outputs": [],
      "source": [
        "wfn = fqe.Wavefunction([[4, 2, 4]])\n",
        "wfn.set_wfn(strategy='random')\n",
        "if Print:\n",
        "    wfn.print_wfn()\n",
        "\n",
        "diagonal = FermionOperator('0^ 0', -2.0) + \\\n",
        "           FermionOperator('1^ 1', -1.7) + \\\n",
        "           FermionOperator('2^ 2', -0.7) + \\\n",
        "           FermionOperator('3^ 3', -0.55) + \\\n",
        "           FermionOperator('4^ 4', -0.1) + \\\n",
        "           FermionOperator('5^ 5', -0.06) + \\\n",
        "           FermionOperator('6^ 6', 0.5) + \\\n",
        "           FermionOperator('7^ 7', 0.3)\n",
        "if Print:\n",
        "    print(diagonal)\n",
        "\n",
        "evolved = wfn.time_evolve(time, diagonal)\n",
        "if Print:\n",
        "    evolved.print_wfn()"
      ]
    },
    {
      "cell_type": "markdown",
      "metadata": {
        "id": "pTemHuzCFGB7"
      },
      "source": [
        "Exact evolution of dense quadratic hamiltonians is supported.  Here is an evolution example using a spin restricted Hamiltonian on a number and spin conserving wavefunction"
      ]
    },
    {
      "cell_type": "code",
      "execution_count": null,
      "metadata": {
        "id": "l0A-_HHCFGB8"
      },
      "outputs": [],
      "source": [
        "norb = 4\n",
        "h1e = numpy.zeros((norb, norb), dtype=numpy.complex128)\n",
        "for i in range(norb):\n",
        "    for j in range(norb):\n",
        "        h1e[i, j] += (i+j) * 0.02\n",
        "    h1e[i, i] += i * 2.0\n",
        "\n",
        "hamil = fqe.get_restricted_hamiltonian((h1e,))\n",
        "wfn = fqe.Wavefunction([[4, 0, norb]])\n",
        "wfn.set_wfn(strategy='random')\n",
        "initial_energy = wfn.expectationValue(hamil)\n",
        "print('Initial Energy: {}'.format(initial_energy))\n",
        "evolved = wfn.time_evolve(time, hamil)\n",
        "final_energy = evolved.expectationValue(hamil)\n",
        "print('Final Energy:   {}'.format(final_energy))"
      ]
    },
    {
      "cell_type": "markdown",
      "metadata": {
        "id": "ixHapITHFGB9"
      },
      "source": [
        "The GSO Hamiltonian is for evolution of quadratic hamiltonians that are spin broken and number conserving."
      ]
    },
    {
      "cell_type": "code",
      "execution_count": null,
      "metadata": {
        "scrolled": true,
        "id": "Ig_uOHpoFGB9"
      },
      "outputs": [],
      "source": [
        "norb = 4\n",
        "h1e = numpy.zeros((2*norb, 2*norb), dtype=numpy.complex128)\n",
        "for i in range(2*norb):\n",
        "    for j in range(2*norb):\n",
        "        h1e[i, j] += (i+j) * 0.02\n",
        "    h1e[i, i] += i * 2.0\n",
        "\n",
        "hamil = fqe.get_gso_hamiltonian((h1e,))\n",
        "wfn = fqe.get_number_conserving_wavefunction(4, norb)\n",
        "wfn.set_wfn(strategy='random')\n",
        "initial_energy = wfn.expectationValue(hamil)\n",
        "print('Initial Energy: {}'.format(initial_energy))\n",
        "evolved = wfn.time_evolve(time, hamil)\n",
        "final_energy = evolved.expectationValue(hamil)\n",
        "print('Final Energy:   {}'.format(final_energy))"
      ]
    },
    {
      "cell_type": "markdown",
      "metadata": {
        "id": "chfwV9lUFGB-"
      },
      "source": [
        "The BCS hamiltonian evovles spin conserved and number broken wavefunctions."
      ]
    },
    {
      "cell_type": "code",
      "execution_count": null,
      "metadata": {
        "scrolled": true,
        "id": "Vz0vqi-vFGB_"
      },
      "outputs": [],
      "source": [
        "norb = 4\n",
        "time = 0.001\n",
        "wfn_spin = fqe.get_spin_conserving_wavefunction(2, norb)\n",
        "hamil = FermionOperator('', 6.0)\n",
        "for i in range(0, 2*norb, 2):\n",
        "    for j in range(0, 2*norb, 2):\n",
        "        opstring = str(i) + ' ' + str(j + 1)\n",
        "        hamil += FermionOperator(opstring, (i+1 + j*2)*0.1 - (i+1 + 2*(j + 1))*0.1j)\n",
        "        opstring = str(i) + '^ ' + str(j + 1) + '^ '\n",
        "        hamil += FermionOperator(opstring, (i+1 + j)*0.1 + (i+1 + j)*0.1j)\n",
        "h_noncon = (hamil + hermitian_conjugated(hamil))/2.0\n",
        "if Print:\n",
        "    print(h_noncon)\n",
        "\n",
        "wfn_spin.set_wfn(strategy='random')\n",
        "if Print:\n",
        "    wfn_spin.print_wfn()\n",
        "\n",
        "spin_evolved = wfn_spin.time_evolve(time, h_noncon)\n",
        "if Print:\n",
        "    spin_evolved.print_wfn()"
      ]
    },
    {
      "cell_type": "markdown",
      "metadata": {
        "id": "5YJ2XBjfFGCA"
      },
      "source": [
        "Exact Evolution Implementation of Diagonal Coulomb terms"
      ]
    },
    {
      "cell_type": "code",
      "execution_count": null,
      "metadata": {
        "scrolled": true,
        "id": "Y6j8ejXoFGCC"
      },
      "outputs": [],
      "source": [
        "norb = 4\n",
        "wfn = fqe.Wavefunction([[5, 1, norb]])\n",
        "vij = numpy.zeros((norb, norb, norb, norb), dtype=numpy.complex128)\n",
        "for i in range(norb):\n",
        "            for j in range(norb):\n",
        "                vij[i, j] += 4*(i % norb + 1)*(j % norb + 1)*0.21\n",
        "\n",
        "wfn.set_wfn(strategy='random')\n",
        "\n",
        "if Print:\n",
        "    wfn.print_wfn()\n",
        "\n",
        "hamil = fqe.get_diagonalcoulomb_hamiltonian(vij)\n",
        "\n",
        "evolved = wfn.time_evolve(time, hamil)\n",
        "if Print:\n",
        "    evolved.print_wfn()"
      ]
    },
    {
      "cell_type": "markdown",
      "metadata": {
        "id": "gbEKGrknFGCC"
      },
      "source": [
        "Exact evolution of individual n-body anti-Hermitian gnerators"
      ]
    },
    {
      "cell_type": "code",
      "execution_count": null,
      "metadata": {
        "scrolled": true,
        "id": "Mxs6bL5-FGCD"
      },
      "outputs": [],
      "source": [
        "norb = 3\n",
        "nele = 4\n",
        "ops = FermionOperator('5^ 1^ 2 0', 3.0 - 1.j)\n",
        "ops += FermionOperator('0^ 2^ 1 5', 3.0 + 1.j)\n",
        "wfn = fqe.get_number_conserving_wavefunction(nele, norb)\n",
        "wfn.set_wfn(strategy='random')\n",
        "wfn.normalize()\n",
        "if Print:\n",
        "    wfn.print_wfn()\n",
        "evolved = wfn.time_evolve(time, ops)\n",
        "if Print:\n",
        "    evolved.print_wfn()\n"
      ]
    },
    {
      "cell_type": "markdown",
      "metadata": {
        "id": "wvIhi932FGCD"
      },
      "source": [
        " Approximate evolution of sums of n-body generators\n",
        "\n",
        "Approximate evolution can be done for dense operators."
      ]
    },
    {
      "cell_type": "code",
      "execution_count": null,
      "metadata": {
        "scrolled": false,
        "id": "6l7x4KjxFGCE"
      },
      "outputs": [],
      "source": [
        "lih_evolved = lihwfn.apply_generated_unitary(time, 'taylor', lih_hamiltonian, accuracy=1.e-8)\n",
        "if Print:\n",
        "    lih_evolved.print_wfn()"
      ]
    },
    {
      "cell_type": "code",
      "execution_count": null,
      "metadata": {
        "scrolled": true,
        "id": "l4g5C-gBFGCE"
      },
      "outputs": [],
      "source": [
        "norb = 2\n",
        "nalpha = 1\n",
        "nbeta = 1\n",
        "nele = nalpha + nbeta\n",
        "time = 0.05\n",
        "h1e = numpy.zeros((norb*2, norb*2), dtype=numpy.complex128)\n",
        "for i in range(2*norb):\n",
        "    for j in range(2*norb):\n",
        "        h1e[i, j] += (i+j) * 0.02\n",
        "    h1e[i, i] += i * 2.0\n",
        "hamil = fqe.get_general_hamiltonian((h1e,))\n",
        "spec_lim = [-1.13199078e-03, 6.12720338e+00]\n",
        "wfn = fqe.Wavefunction([[nele, nalpha - nbeta, norb]])\n",
        "wfn.set_wfn(strategy='random')\n",
        "if Print:\n",
        "    wfn.print_wfn()\n",
        "evol_wfn = wfn.apply_generated_unitary(time, 'chebyshev', hamil, spec_lim=spec_lim)\n",
        "if Print:\n",
        "    evol_wfn.print_wfn()"
      ]
    },
    {
      "cell_type": "markdown",
      "metadata": {
        "id": "zmkYlCF3FGCG"
      },
      "source": [
        "API for determining desired expectation values"
      ]
    },
    {
      "cell_type": "code",
      "execution_count": null,
      "metadata": {
        "scrolled": true,
        "id": "zyEF2AjvFGCG"
      },
      "outputs": [],
      "source": [
        "rdm1 = lihwfn.expectationValue('i^ j')\n",
        "if Print:\n",
        "    print(rdm1)\n",
        "val = lihwfn.expectationValue('5^ 3')\n",
        "if Print:\n",
        "    print(2.*val)\n",
        "trdm1 = fqe.expectationValue(lih_evolved, 'i j^', lihwfn)\n",
        "if Print:\n",
        "    print(trdm1)\n",
        "val = fqe.expectationValue(lih_evolved, '5 3^', lihwfn)\n",
        "if Print:\n",
        "    print(2*val)"
      ]
    },
    {
      "cell_type": "markdown",
      "metadata": {
        "id": "ga3t_-9rFGCG"
      },
      "source": [
        "2.B.1 RDMs\n",
        "In addition to the above API higher order density matrices in addition to hole densities can be calculated."
      ]
    },
    {
      "cell_type": "code",
      "execution_count": null,
      "metadata": {
        "scrolled": true,
        "id": "i_YfZQUsFGCH"
      },
      "outputs": [],
      "source": [
        "rdm2 = lihwfn.expectationValue('i^ j k l^')\n",
        "if Print:\n",
        "    print(rdm2)\n",
        "rdm2 = fqe.expectationValue(lihwfn, 'i^ j^ k l', lihwfn)\n",
        "if Print:\n",
        "    print(rdm2)"
      ]
    },
    {
      "cell_type": "markdown",
      "metadata": {
        "id": "2Xmsk476FGCJ"
      },
      "source": [
        "2.B.2 Hamiltonian expectations (or any expectation values)"
      ]
    },
    {
      "cell_type": "code",
      "execution_count": null,
      "metadata": {
        "scrolled": true,
        "id": "6F_C7m2eFGCK"
      },
      "outputs": [],
      "source": [
        "li_h_energy = lihwfn.expectationValue(lih_hamiltonian)\n",
        "if Print:\n",
        "    print(li_h_energy)\n",
        "li_h_energy = fqe.expectationValue(lihwfn, lih_hamiltonian, lihwfn)\n",
        "if Print:\n",
        "    print(li_h_energy)"
      ]
    },
    {
      "cell_type": "markdown",
      "metadata": {
        "id": "6NgwYLn2FGCK"
      },
      "source": [
        "2.B.3 Symmetry operations"
      ]
    },
    {
      "cell_type": "code",
      "execution_count": null,
      "metadata": {
        "scrolled": true,
        "id": "xFKdLdO3FGCL"
      },
      "outputs": [],
      "source": [
        "op = fqe.get_s2_operator()\n",
        "print(lihwfn.expectationValue(op))\n",
        "op = fqe.get_sz_operator()\n",
        "print(lihwfn.expectationValue(op))\n",
        "op = fqe.get_time_reversal_operator()\n",
        "print(lihwfn.expectationValue(op))\n",
        "op = fqe.get_number_operator()\n",
        "print(lihwfn.expectationValue(op))\n"
      ]
    }
  ],
  "metadata": {
    "kernelspec": {
      "display_name": "Python 3",
      "language": "python",
      "name": "python3"
    },
    "language_info": {
      "codemirror_mode": {
        "name": "ipython",
        "version": 3
      },
      "file_extension": ".py",
      "mimetype": "text/x-python",
      "name": "python",
      "nbconvert_exporter": "python",
      "pygments_lexer": "ipython3",
      "version": "3.6.8"
    },
    "colab": {
      "provenance": []
    }
  },
  "nbformat": 4,
  "nbformat_minor": 0
}